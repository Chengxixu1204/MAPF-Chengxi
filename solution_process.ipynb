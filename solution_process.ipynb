{
 "cells": [
  {
   "cell_type": "code",
   "execution_count": 29,
   "id": "40ca8d46-6b99-4f73-bf94-f11725bbb11f",
   "metadata": {},
   "outputs": [
    {
     "name": "stdout",
     "output_type": "stream",
     "text": [
      "Average runtime: 50.3715428\n",
      "Success rate: 0.6\n",
      "Average solution_cost/lower_bound ratio: 1.350840871399486\n"
     ]
    },
    {
     "name": "stderr",
     "output_type": "stream",
     "text": [
      "/var/folders/6w/zs750_xx625bwpptbqb0pgkc0000gn/T/ipykernel_96874/3584277873.py:16: SettingWithCopyWarning: \n",
      "A value is trying to be set on a copy of a slice from a DataFrame.\n",
      "Try using .loc[row_indexer,col_indexer] = value instead\n",
      "\n",
      "See the caveats in the documentation: https://pandas.pydata.org/pandas-docs/stable/user_guide/indexing.html#returning-a-view-versus-a-copy\n",
      "  df_non_zero_cost['cost_bound_ratio'] = df_non_zero_cost['solution cost'] / df_non_zero_cost['lower bound']\n"
     ]
    }
   ],
   "source": [
    "import pandas as pd\n",
    "\n",
    "# Load CSV data\n",
    "df = pd.read_csv('random_test_unitlevel/random-32-32-20-175-5-random.csv-LNS.csv')\n",
    "\n",
    "# Calculate average of \"runtime\" column\n",
    "runtime_avg = df['runtime'].mean()\n",
    "print(f'Average runtime: {runtime_avg}')\n",
    "\n",
    "# Calculate success rate (proportion of rows where \"solution cost\" is not zero)\n",
    "success_rate = (df['solution cost'] != 0).mean()\n",
    "print(f'Success rate: {success_rate}')\n",
    "\n",
    "# For each row, calculate \"solution cost\" / \"lower bound\" for non-zero \"solution cost\"\n",
    "df_non_zero_cost = df[df['solution cost'] != 0]  # exclude rows with zero \"solution cost\"\n",
    "df_non_zero_cost['cost_bound_ratio'] = df_non_zero_cost['solution cost'] / df_non_zero_cost['lower bound']\n",
    "\n",
    "# Calculate the average of these ratios\n",
    "avg_ratio = df_non_zero_cost['cost_bound_ratio'].mean()\n",
    "print(f'Average solution_cost/lower_bound ratio: {avg_ratio}')\n"
   ]
  },
  {
   "cell_type": "code",
   "execution_count": null,
   "id": "a26f0ebe-303d-4945-8c80-d3e494ffdcb8",
   "metadata": {},
   "outputs": [],
   "source": []
  },
  {
   "cell_type": "code",
   "execution_count": null,
   "id": "36b64b29-2926-4d67-b492-60fb610d663c",
   "metadata": {},
   "outputs": [],
   "source": []
  },
  {
   "cell_type": "code",
   "execution_count": null,
   "id": "c67023c4-6fad-44c0-99d4-8afac32924b2",
   "metadata": {},
   "outputs": [],
   "source": []
  },
  {
   "cell_type": "code",
   "execution_count": null,
   "id": "ecae942e-15eb-4f28-89e1-5992d45f695f",
   "metadata": {},
   "outputs": [],
   "source": []
  }
 ],
 "metadata": {
  "kernelspec": {
   "display_name": "Python 3 (ipykernel)",
   "language": "python",
   "name": "python3"
  },
  "language_info": {
   "codemirror_mode": {
    "name": "ipython",
    "version": 3
   },
   "file_extension": ".py",
   "mimetype": "text/x-python",
   "name": "python",
   "nbconvert_exporter": "python",
   "pygments_lexer": "ipython3",
   "version": "3.9.12"
  }
 },
 "nbformat": 4,
 "nbformat_minor": 5
}
