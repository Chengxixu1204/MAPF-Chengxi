{
 "cells": [
  {
   "cell_type": "code",
   "execution_count": 2,
   "id": "40ca8d46-6b99-4f73-bf94-f11725bbb11f",
   "metadata": {},
   "outputs": [
    {
     "name": "stdout",
     "output_type": "stream",
     "text": [
      "Average runtime: 0.04089753199999999\n",
      "Success rate: 1.0\n",
      "Average solution_cost/lower_bound ratio: 1.071194611499842\n"
     ]
    }
   ],
   "source": [
    "import pandas as pd\n",
    "\n",
    "# Load CSV data\n",
    "df = pd.read_csv('warehouse_test_RND/warehouse-10-20-10-2-1-50-0-random.csv-LNS.csv')\n",
    "\n",
    "# Calculate average of \"runtime\" column\n",
    "runtime_avg = df['runtime'].mean()\n",
    "print(f'Average runtime: {runtime_avg}')\n",
    "\n",
    "# Calculate success rate (proportion of rows where \"solution cost\" is not zero)\n",
    "success_rate = (df['solution cost'] != 0).mean()\n",
    "print(f'Success rate: {success_rate}')\n",
    "\n",
    "# For each row, calculate \"solution cost\" / \"lower bound\" for non-zero \"solution cost\"\n",
    "df_non_zero_cost = df[df['solution cost'] != 0]  # exclude rows with zero \"solution cost\"\n",
    "df_non_zero_cost['cost_bound_ratio'] = df_non_zero_cost['solution cost'] / df_non_zero_cost['lower bound']\n",
    "\n",
    "# Calculate the average of these ratios\n",
    "avg_ratio = df_non_zero_cost['cost_bound_ratio'].mean()\n",
    "print(f'Average solution_cost/lower_bound ratio: {avg_ratio}')\n"
   ]
  },
  {
   "cell_type": "code",
   "execution_count": null,
   "id": "a26f0ebe-303d-4945-8c80-d3e494ffdcb8",
   "metadata": {},
   "outputs": [],
   "source": []
  }
 ],
 "metadata": {
  "kernelspec": {
   "display_name": "Python 3 (ipykernel)",
   "language": "python",
   "name": "python3"
  },
  "language_info": {
   "codemirror_mode": {
    "name": "ipython",
    "version": 3
   },
   "file_extension": ".py",
   "mimetype": "text/x-python",
   "name": "python",
   "nbconvert_exporter": "python",
   "pygments_lexer": "ipython3",
   "version": "3.9.12"
  }
 },
 "nbformat": 4,
 "nbformat_minor": 5
}
